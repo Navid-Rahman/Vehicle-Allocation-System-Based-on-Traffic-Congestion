{
 "cells": [
  {
   "cell_type": "code",
   "execution_count": 32,
   "id": "9079316c",
   "metadata": {},
   "outputs": [],
   "source": [
    "# Import Python libraries for data manipuation and visualization\n",
    "\n",
    "import pandas as pd\n",
    "import numpy as np\n",
    "import datetime as dt\n",
    "import matplotlib.pyplot as pyplot\n",
    "import networkx as nx\n",
    "import csv\n",
    "import networkx as nx\n",
    "import math\n",
    "\n",
    "\n",
    "\n",
    "# Import the Python machine learning libraries we need\n",
    "\n",
    "from sklearn.model_selection import train_test_split\n",
    "from sklearn.tree import DecisionTreeClassifier\n",
    "from sklearn import linear_model\n",
    "from sklearn.metrics import mean_absolute_error\n",
    "from sklearn.metrics import r2_score\n",
    "from sklearn.metrics import accuracy_score\n",
    "from sklearn import metrics\n",
    "from math import sqrt\n",
    "\n",
    "from sklearn.ensemble import RandomForestRegressor\n",
    "from sklearn.tree import DecisionTreeRegressor\n",
    "from sklearn.linear_model import LinearRegression\n",
    "from sklearn.ensemble import GradientBoostingRegressor\n",
    "from sklearn.ensemble import AdaBoostRegressor\n",
    "from sklearn.neighbors import KNeighborsRegressor\n",
    "from sklearn.linear_model import BayesianRidge\n",
    "from sklearn.linear_model import Lasso\n",
    "from sklearn.gaussian_process.kernels import DotProduct, WhiteKernel\n",
    "from sklearn.gaussian_process import GaussianProcessRegressor\n",
    "\n",
    "\n",
    "# Import some convenience functions.  This can be found on the course github\n",
    "\n",
    "data_df = pd.read_csv('chicago-traffic-tracker-historical-congestion-estimates-by-segment-2018.csv')\n",
    "data_df['DATE'] = pd.to_datetime(data_df['DATE'])\n",
    "data_df['DATE']=data_df['DATE'].map(dt.datetime.toordinal)"
   ]
  },
  {
   "cell_type": "code",
   "execution_count": 33,
   "id": "c577aa63",
   "metadata": {},
   "outputs": [],
   "source": [
    "# with open('Testing 1.csv') as f:\n",
    "#    # edges = [tuple(line) for line in csv.reader(f)]\n",
    "#    for line in csv.reader(f):\n",
    "#         print(line)\n",
    "data_test = pd.read_csv(\"Testing_2.csv\")\n",
    "# for value in data_test[\"DATE\"]:\n",
    "#     print(\"NOTHING\")\n",
    "data_from = getattr(data_test,\"FROM_STREET\",\"NO_ADDRESS\")\n",
    "data_to = getattr(data_test,\"TO_STREET\",\"NO_ADDRESS\")\n",
    "i=0\n",
    "edges=[]\n",
    "for value in data_test[\"FROM_STREET\"]:\n",
    "    i= i+1\n",
    "edges = [ (data_from[answer],data_to[answer]) for answer in range(0,i)]\n",
    "   # print(data_test['TO_STREET'].astype('string'))\n",
    "# print(type(data_test['FROM_STREET']))"
   ]
  },
  {
   "cell_type": "code",
   "execution_count": 34,
   "id": "c8e1d75f",
   "metadata": {},
   "outputs": [
    {
     "name": "stdout",
     "output_type": "stream",
     "text": [
      "['Ohio', 'Randolph', 'Congress', 'Fullerton', 'Lake Shore Dr Michigan Exit Ramp', 'Wacker', 'North Ave', 'Michigan', 'Jackson', 'Halsted', 'State', 'Chicago', 'Roosevelt', 'Diversey', 'Vincennes', 'Division', 'Foster', 'Belmont', '16th', 'Van Buren', 'Columbus', 'Lawrence', '18th', 'Lake Shore Dr', 'Wentworth', 'Illinois', '18TH', 'Madison', '31st', 'Oak St', 'LakeShore Dr', 'Grand Ave', 'Oakwood', 'Grand', 'I-55 Expy', 'Damen', 'Clark', 'Balbo', 'Bryn Mawr', 'Lake', '63rd', 'Irving Park', 'Milwaukee', 'Monroe', 'Franklin', 'Ashland', '103rd', '43rd', '47th', 'Peterson', 'LaSalle', 'Western', '79th', 'Addison', '59th', 'Cermak', 'Montrose', '67th', 'Dr Martin L King Jr', 'Cottage Grove', 'Clarendon', '71st', '51st', '55th', '91st', 'Racine', '75th', 'Washington', 'Hollywood', 'Dan Ryan Expy', 'Jefferson', 'Kostner', '35th', '26th', 'Harrison', 'Narragansett', 'Michigain', 'Lake Shore Dr Michigan Entrance Ramp', 'Stevenson Expy', 'Central', '95th', 'Canal', 'Columbus Ave', 'Forest Preserve Ave', 'Garfield', 'Armitage', 'Fairbanks', 'Devon', 'Pulaski', 'Pershing', 'Austin']\n"
     ]
    }
   ],
   "source": [
    "nodes = []\n",
    "for items in data_from:\n",
    "    if items not in nodes:\n",
    "        nodes.append(items)\n",
    "        \n",
    "for items in data_to:\n",
    "    if items not in nodes:\n",
    "        nodes.append(items)\n",
    "        \n",
    "print(nodes)"
   ]
  },
  {
   "cell_type": "code",
   "execution_count": 35,
   "id": "12e1ccef",
   "metadata": {},
   "outputs": [
    {
     "name": "stdout",
     "output_type": "stream",
     "text": [
      "         SEGMENT_ID    DATE  TIME\n",
      "0              1090  736767    23\n",
      "1              1090  736768    23\n",
      "2              1090  736769    23\n",
      "3              1082  736770    23\n",
      "4              1090  736770    23\n",
      "...             ...     ...   ...\n",
      "1048570         921  736768    17\n",
      "1048571         921  736768     9\n",
      "1048572         908  736767    17\n",
      "1048573         908  736769    17\n",
      "1048574         922  736773     8\n",
      "\n",
      "[1048575 rows x 3 columns]\n"
     ]
    }
   ],
   "source": [
    "data_df.dropna(inplace=True)\n",
    "indices_to_keep = ~data_df.isin([np.nan, np.inf, -np.inf]).any(1)\n",
    "\n",
    "    \n",
    "X = data_df[[\"SEGMENT_ID\",\"DATE\",\"TIME\"]]\n",
    "print(X)\n",
    "y = data_df[\"BUS_COUNT\"]\n",
    "\n",
    "# Split into test and training sets\n",
    "test_size = 0.20\n",
    "seed = 7\n",
    "X_train, X_test, y_train, y_test =  train_test_split(X, y, test_size=test_size, random_state=seed)\n",
    "# z1_train, z1_test, z2_train, z2_test =  train_test_split(X, y, test_size=test_size, random_state=seed)*"
   ]
  },
  {
   "cell_type": "code",
   "execution_count": 36,
   "id": "2d3bde95",
   "metadata": {},
   "outputs": [
    {
     "data": {
      "text/plain": [
       "RandomForestRegressor()"
      ]
     },
     "execution_count": 36,
     "metadata": {},
     "output_type": "execute_result"
    }
   ],
   "source": [
    "model = RandomForestRegressor()\n",
    "# Fit model to the data\n",
    "model.fit(X_train.values, y_train)"
   ]
  },
  {
   "cell_type": "code",
   "execution_count": 37,
   "id": "6beb771e",
   "metadata": {},
   "outputs": [
    {
     "name": "stderr",
     "output_type": "stream",
     "text": [
      "C:\\Users\\navid\\anaconda3\\lib\\site-packages\\sklearn\\base.py:443: UserWarning: X has feature names, but RandomForestRegressor was fitted without feature names\n",
      "  warnings.warn(\n"
     ]
    },
    {
     "name": "stdout",
     "output_type": "stream",
     "text": [
      "[1.02217857 1.4923373  0.59247222 ... 0.         2.24360806 1.52839683]\n"
     ]
    }
   ],
   "source": [
    "y_predict = model.predict(X_test)\n",
    "print(y_predict)"
   ]
  },
  {
   "cell_type": "code",
   "execution_count": 38,
   "id": "51be00bb",
   "metadata": {},
   "outputs": [
    {
     "name": "stdout",
     "output_type": "stream",
     "text": [
      "RMSE:  0.8349878663459027\n",
      "MAE:  0.5665230744205886\n"
     ]
    }
   ],
   "source": [
    "from sklearn.metrics import mean_squared_error\n",
    "\n",
    "# Calculate RMSE\n",
    "rmse = sqrt(mean_squared_error(y_test, y_predict))\n",
    "print(\"RMSE: \", rmse)\n",
    "\n",
    "# Calculate MAE\n",
    "mae = mean_absolute_error(y_test, y_predict)\n",
    "print(\"MAE: \", mae)"
   ]
  },
  {
   "cell_type": "code",
   "execution_count": 39,
   "id": "50c4e1fb",
   "metadata": {},
   "outputs": [],
   "source": [
    "data_segement =  getattr(data_test,\"SEGMENT_ID\")\n",
    "segement = [ (data_from[answer],data_to[answer],data_segement[answer]) for answer in range(0,i)]"
   ]
  },
  {
   "cell_type": "code",
   "execution_count": 40,
   "id": "1a557368",
   "metadata": {},
   "outputs": [],
   "source": [
    "data_length = getattr(data_test,\"LENGTH\")\n",
    "length = [ (data_segement[answer],data_length[answer]) for answer in range(0,i) ]\n",
    "# print( [(data_segement[12], data_length[12]) for answer in ]   )"
   ]
  },
  {
   "cell_type": "code",
   "execution_count": 41,
   "id": "e7aeef8e",
   "metadata": {},
   "outputs": [],
   "source": [
    "def get_segmentId(from_location, to_location):\n",
    "    for i in segement:\n",
    "        if(i[0] == from_location and  i[1] == to_location)or(i[1] == from_location and  i[0] == to_location):\n",
    "            return i[2]"
   ]
  },
  {
   "cell_type": "code",
   "execution_count": 42,
   "id": "f8567579",
   "metadata": {},
   "outputs": [],
   "source": [
    "def get_length(SEGMENT_ID):\n",
    "    for i in length:\n",
    "        if(i[0] == SEGMENT_ID ):\n",
    "            return i[1]"
   ]
  },
  {
   "cell_type": "code",
   "execution_count": 43,
   "id": "428292b5",
   "metadata": {},
   "outputs": [],
   "source": [
    "# Create Graph using appropriate nodes and edges\n",
    "\n",
    "G = nx.Graph()\n",
    "# print(G.nodes()) # returns a list\n",
    "# print(G.edges()) # returns a list\n",
    "\n",
    "# print(output)\n",
    "\n",
    "G.add_nodes_from(nodes)\n",
    "# nx.set_node_attributes(G,values=10,name= 'test')\n",
    "\n",
    "\n",
    "G.add_edges_from(edges)\n",
    "\n",
    "# nx.set_edge_attributes(G, values = 100, name = 'road_size')\n"
   ]
  },
  {
   "cell_type": "code",
   "execution_count": 53,
   "id": "b12bd697",
   "metadata": {},
   "outputs": [
    {
     "name": "stdout",
     "output_type": "stream",
     "text": [
      "From: Ohio\n",
      "Destination: Canal\n",
      "Enter a year: 2024\n",
      "Enter a month: 5\n",
      "Enter a day: 6\n",
      "Input time - (1-24) for\n",
      "1. 12-1 AM\n",
      "2. 1-2 AM\n",
      "3. 2-3 AM\n",
      "4. 3-4 AM\n",
      "5. 4-5 AM\n",
      "6. 5-6 AM\n",
      "7. 6-7 AM\n",
      "8. 7-8 AM\n",
      "9. 8-9 AM\n",
      "10. 9-10 AM\n",
      "11. 10-11 AM\n",
      "12. 11-12 AM\n",
      "13. 12-1 PM\n",
      "14. 1-2 PM\n",
      "15. 2-3 PM\n",
      "16. 3-4 PM\n",
      "17. 4-5 PM\n",
      "18. 5-6 PM\n",
      "19. 6-7 PM\n",
      "20. 7-8 PM\n",
      "21. 8-9 PM\n",
      "22. 9-10 PM\n",
      "23. 10-11 PM\n",
      "24. 11-12 PM\n",
      "12\n",
      "All Shortest Path Lists: \n",
      "[['Ohio', 'Randolph', 'Congress', 'Wacker', 'Halsted', 'Canal'], ['Ohio', 'Randolph', 'Grand', 'Wacker', 'Halsted', 'Canal']]\n"
     ]
    }
   ],
   "source": [
    "from_input = input('From: ')\n",
    "dest_input = input('Destination: ')\n",
    "\n",
    "year = int(input('Enter a year: '))\n",
    "month = int(input('Enter a month: '))\n",
    "day = int(input('Enter a day: '))\n",
    "date1 = dt.date(year, month, day)\n",
    "date_input = dt.datetime.toordinal(date1)\n",
    "\n",
    "time_input = input('Input time - (1-24) for\\n1. 12-1 AM\\n2. 1-2 AM\\n3. 2-3 AM\\n4. 3-4 AM\\n5. 4-5 AM\\n6. 5-6 AM\\n7. 6-7 AM\\n8. 7-8 AM\\n9. 8-9 AM\\n10. 9-10 AM\\n11. 10-11 AM\\n12. 11-12 AM\\n13. 12-1 PM\\n14. 1-2 PM\\n15. 2-3 PM\\n16. 3-4 PM\\n17. 4-5 PM\\n18. 5-6 PM\\n19. 6-7 PM\\n20. 7-8 PM\\n21. 8-9 PM\\n22. 9-10 PM\\n23. 10-11 PM\\n24. 11-12 PM\\n')\n",
    "\n",
    "# Shortest path lists\n",
    "shortest_path_list = list(nx.all_shortest_paths(G, from_input, dest_input))\n",
    "print(\"All Shortest Path Lists: \")\n",
    "print(shortest_path_list)\n",
    "\n",
    "# # All simple path lists\n",
    "# all_simple_paths = list(nx.all_simple_paths(G, from_input, dest_input))\n",
    "# print(\"All Simple Path Lists: \")\n",
    "# print(all_simple_paths)"
   ]
  },
  {
   "cell_type": "code",
   "execution_count": 54,
   "id": "fca96133",
   "metadata": {},
   "outputs": [],
   "source": [
    "for i in shortest_path_list:\n",
    "    j=1\n",
    "    time_data =int(time_input)\n",
    "\n",
    "    for x in range(1,len(i)):\n",
    "        SEGMENT_ID =get_segmentId(i[j-1],i[j])\n",
    "        from_loc = i[j-1]\n",
    "        to_loc = i[j]\n",
    "        update_segement = G[from_loc][to_loc]\n",
    "        update_node = G.nodes[to_loc]\n",
    "        \n",
    "        predictions = model.predict([[SEGMENT_ID, date_input, time_data]])\n",
    "            \n",
    "        num_of_vechicles =(math.ceil(predictions))\n",
    "        update_segement.update({'weight': num_of_vechicles})\n",
    "        update_node.update({'values' :num_of_vechicles })\n",
    "       \n",
    "        if(time_data == 24):\n",
    "            time_data = -1\n",
    "        time_data = time_data + 1\n",
    "        j=j+1"
   ]
  },
  {
   "cell_type": "code",
   "execution_count": 55,
   "id": "b7e63b66",
   "metadata": {},
   "outputs": [],
   "source": [
    "for i in shortest_path_list:\n",
    "    j=1\n",
    "    time_data =int(time_input)\n",
    "    for x in range(1,len(i)):\n",
    "        SEGMENT_ID =get_segmentId(i[j-1],i[j])\n",
    "        dataset_length = get_length(SEGMENT_ID)\n",
    "        from_loc = i[j-1]\n",
    "        to_loc = i[j]\n",
    "        \n",
    "        update_segement = G[from_loc][to_loc]\n",
    "        update_segement.update({'road_size': dataset_length})\n",
    "        j=j+1"
   ]
  },
  {
   "cell_type": "code",
   "execution_count": 56,
   "id": "845dda1f",
   "metadata": {},
   "outputs": [
    {
     "data": {
      "text/plain": [
       "{('Ohio', 'Randolph'): 8,\n",
       " ('Randolph', 'Congress'): 13,\n",
       " ('Randolph', 'Grand'): 1,\n",
       " ('Congress', 'Wacker'): 6,\n",
       " ('Wacker', 'Halsted'): 10,\n",
       " ('Wacker', 'Grand'): 1,\n",
       " ('Halsted', 'Canal'): 6}"
      ]
     },
     "execution_count": 56,
     "metadata": {},
     "output_type": "execute_result"
    }
   ],
   "source": [
    "nx.get_edge_attributes(G,name='weight')\n"
   ]
  },
  {
   "cell_type": "code",
   "execution_count": 57,
   "id": "c8c453e4",
   "metadata": {},
   "outputs": [
    {
     "data": {
      "text/plain": [
       "{'Ohio': 30,\n",
       " 'Randolph': 8,\n",
       " 'Congress': 13,\n",
       " 'Wacker': 1,\n",
       " 'Halsted': 10,\n",
       " 'Grand': 1,\n",
       " 'Canal': 6}"
      ]
     },
     "execution_count": 57,
     "metadata": {},
     "output_type": "execute_result"
    }
   ],
   "source": [
    "nx.get_node_attributes(G, name = 'values')"
   ]
  },
  {
   "cell_type": "code",
   "execution_count": 58,
   "id": "ebcbc272",
   "metadata": {
    "scrolled": true
   },
   "outputs": [
    {
     "data": {
      "text/plain": [
       "{('Ohio', 'Randolph'): 0.56,\n",
       " ('Randolph', 'Congress'): 0.6,\n",
       " ('Randolph', 'Grand'): 0.51,\n",
       " ('Congress', 'Wacker'): 0.77,\n",
       " ('Wacker', 'Halsted'): 0.54,\n",
       " ('Wacker', 'Grand'): 0.32,\n",
       " ('Halsted', 'Canal'): 0.4}"
      ]
     },
     "execution_count": 58,
     "metadata": {},
     "output_type": "execute_result"
    }
   ],
   "source": [
    "nx.get_edge_attributes(G,name='road_size')"
   ]
  },
  {
   "cell_type": "code",
   "execution_count": 59,
   "id": "beeeb8ad",
   "metadata": {},
   "outputs": [
    {
     "data": {
      "image/png": "[encoded data removed]",
      "text/plain": [
       "<Figure size 640x480 with 1 Axes>"
      ]
     },
     "metadata": {},
     "output_type": "display_data"
    }
   ],
   "source": [
    "tree = nx.DiGraph()\n",
    "\n",
    "# Add the destination node as the root of the tree\n",
    "tree.add_node(from_input)\n",
    "\n",
    "# For each path in all_simple_paths\n",
    "for path in shortest_path_list:\n",
    "    # For each node along the path, starting from the end node\n",
    "    for i in range(len(path)-1, 0, -1):\n",
    "        # If the node is not already in the tree, add it\n",
    "        if not tree.has_node(path[i]):\n",
    "            tree.add_node(path[i])\n",
    "        # Add an edge from the current node to its parent node\n",
    "        tree.add_edge(path[i-1], path[i])\n",
    "\n",
    "        \n",
    "        \n",
    "import matplotlib.pyplot as plt\n",
    "import networkx as nx\n",
    "\n",
    "# Get the node positions for plotting\n",
    "pos = nx.spring_layout(tree)\n",
    "\n",
    "# Draw the nodes\n",
    "\n",
    "nx.draw_networkx_nodes(tree, pos)\n",
    "\n",
    "\n",
    "# node_labels = nx.get_node_attributes(G,'values')\n",
    "# nx.draw_networkx_labels(G, pos, labels = node_labels)\n",
    "\n",
    "\n",
    "# Draw the edges\n",
    "nx.draw_networkx_edges(tree, pos)\n",
    "\n",
    "# Label the nodes\n",
    "labels = nx.get_edge_attributes(G,'weight')\n",
    "nx.draw_networkx_edge_labels(G, pos,labels)\n",
    "\n",
    "labels = {node: node for node in tree.nodes}\n",
    "nx.draw_networkx_labels(tree, pos, labels)\n",
    "\n",
    "# Show the plot\n",
    "plt.show()"
   ]
  },
  {
   "cell_type": "code",
   "execution_count": 60,
   "id": "eb879e0c",
   "metadata": {
    "scrolled": true
   },
   "outputs": [
    {
     "name": "stdout",
     "output_type": "stream",
     "text": [
      "[(0, 'Ohio'), (1, 'Randolph'), (2, 'Congress'), (2, 'Grand'), (3, 'Wacker'), (4, 'Halsted'), (5, 'Canal')]\n",
      "8\n",
      "0.56\n",
      "Ratio: 14.285714285714285\n",
      "Randolph\n",
      "Allcated bus: 8\n",
      "13\n",
      "0.6\n",
      "1\n",
      "0.51\n",
      "Ratio: 13.173652694610777\n",
      "Congress\n",
      "Allcated bus: 8\n",
      "Grand\n",
      "Allcated bus: 7\n",
      "6\n",
      "0.77\n",
      "Ratio: 11.475409836065571\n",
      "Wacker\n",
      "Allcated bus: 9\n",
      "1\n",
      "0.32\n",
      "Ratio: 10.507246376811594\n",
      "Wacker\n",
      "Allcated bus: 4\n",
      "10\n",
      "0.54\n",
      "Ratio: 11.818181818181817\n",
      "Halsted\n",
      "Allcated bus: 7\n",
      "6\n",
      "0.4\n",
      "Ratio: 12.162162162162161\n",
      "Canal\n",
      "Allcated bus: 5\n",
      "Ratio: 12.162162162162161\n"
     ]
    }
   ],
   "source": [
    "# result = [(0, 'Ohio'), (1, 'Randolph'), (2, '1550 West'), (2, 'Congress'), (2, 'Grand')]\n",
    "result = []\n",
    "def dfs(graph, start, level=0):\n",
    "    visited, stack = set(), [(start, level)]\n",
    "    while stack:\n",
    "        vertex, level = stack.pop()\n",
    "        if vertex not in visited:\n",
    "            visited.add(vertex)\n",
    "    \n",
    "            answer = (level,vertex)\n",
    "            result.append(answer)\n",
    "            for neighbour in graph[vertex]:\n",
    "                stack.append((neighbour, level+1))\n",
    "\n",
    "dfs(tree, from_input)\n",
    "\n",
    "\n",
    "result.sort()\n",
    "print(result)\n",
    "\n",
    "total_congestion = 0\n",
    "ratio_array = []\n",
    "congestion_array = []\n",
    "# input_vehicle = G[result[i][1]][result[y][1]['weight']\n",
    "G.nodes[result[0][1]]['values'] = 30\n",
    "how_many_times = result[-1][0]\n",
    "total_road_size = 0\n",
    "total_bus_count = 0\n",
    "\n",
    "for i in range(0,len(result)):\n",
    "    input_vehicle = G.nodes[result[i][1]]['values']\n",
    "    answer = result[i][0]    \n",
    "    for y in range(i+1,len(result)):\n",
    "        answer2 = result[y][0]-1\n",
    "        if(answer == answer2):\n",
    "            try:\n",
    "                bus_count = G[result[i][1]][result[y][1]]['weight']\n",
    "                print(bus_count)\n",
    "                road_size = G[result[i][1]][result[y][1]]['road_size']\n",
    "                print(road_size)\n",
    "                total_road_size = total_road_size + road_size\n",
    "                total_bus_count = total_bus_count + bus_count\n",
    "                \n",
    "#                 average_congestion = values/road_size           \n",
    "#                 congestion_array.append((average_congestion,result[i][1],result[y][1]))\n",
    "#                 total_congestion = total_congestion + average_congestion\n",
    "\n",
    "            except Exception as e:\n",
    "                print(e)\n",
    "                print(\"NO connection made\")\n",
    "            \n",
    "        elif( answer < answer2):\n",
    "            break;\n",
    "        \n",
    "    if (total_bus_count == 0):\n",
    "        total_bus_count = 1\n",
    "    ratio = total_bus_count/total_road_size\n",
    "    print(f\"Ratio: {ratio}\")\n",
    "    \n",
    "    for z in range(i+1,len(result)):\n",
    "        answer2 = result[z][0]-1\n",
    "        if(answer == answer2):\n",
    "            try:\n",
    "                bus_count = G[result[i][1]][result[z][1]]['weight']\n",
    "                road_size = G[result[i][1]][result[z][1]]['road_size']\n",
    "                \n",
    "                allocated_bus = math.ceil(road_size*ratio)\n",
    "                print(result[z][1])\n",
    "                print(f\"Allcated bus: {allocated_bus}\")\n",
    "                update_segement = G[result[i][1]][result[z][1]]\n",
    "                update_segement.update({'weight': allocated_bus})\n",
    "            except:\n",
    "                print(\"NO connection\")\n",
    "            \n",
    "        elif( answer < answer2):\n",
    "            break;\n",
    "            \n",
    "            \n",
    "\n",
    "\n"
   ]
  },
  {
   "cell_type": "code",
   "execution_count": 61,
   "id": "7d8c013b",
   "metadata": {},
   "outputs": [
    {
     "data": {
      "image/png": "[encoded data removed]",
      "text/plain": [
       "<Figure size 640x480 with 1 Axes>"
      ]
     },
     "metadata": {},
     "output_type": "display_data"
    }
   ],
   "source": [
    "pos = nx.spring_layout(tree)\n",
    "\n",
    "# Draw the nodes\n",
    "\n",
    "nx.draw_networkx_nodes(tree, pos)\n",
    "\n",
    "\n",
    "# node_labels = nx.get_node_attributes(G,'values')\n",
    "# nx.draw_networkx_labels(G, pos, labels = node_labels)\n",
    "\n",
    "\n",
    "# Draw the edges\n",
    "nx.draw_networkx_edges(tree, pos)\n",
    "\n",
    "# Label the nodes\n",
    "labels = nx.get_edge_attributes(G,'weight')\n",
    "nx.draw_networkx_edge_labels(G, pos,labels)\n",
    "\n",
    "labels = {node: node for node in tree.nodes}\n",
    "nx.draw_networkx_labels(tree, pos, labels)\n",
    "\n",
    "# Show the plot\n",
    "plt.show()"
   ]
  },
  {
   "cell_type": "code",
   "execution_count": null,
   "id": "cc47e245",
   "metadata": {},
   "outputs": [],
   "source": []
  },
  {
   "cell_type": "code",
   "execution_count": null,
   "id": "38021e4b",
   "metadata": {},
   "outputs": [],
   "source": []
  },
  {
   "cell_type": "code",
   "execution_count": null,
   "id": "1e0d664d",
   "metadata": {},
   "outputs": [],
   "source": []
  }
 ],
 "metadata": {
  "kernelspec": {
   "display_name": "Python 3 (ipykernel)",
   "language": "python",
   "name": "python3"
  },
  "language_info": {
   "codemirror_mode": {
    "name": "ipython",
    "version": 3
   },
   "file_extension": ".py",
   "mimetype": "text/x-python",
   "name": "python",
   "nbconvert_exporter": "python",
   "pygments_lexer": "ipython3",
   "version": "3.9.13"
  }
 },
 "nbformat": 4,
 "nbformat_minor": 5
}
